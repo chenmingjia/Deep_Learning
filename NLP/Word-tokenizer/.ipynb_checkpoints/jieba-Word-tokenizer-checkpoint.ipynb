{
 "cells": [
  {
   "cell_type": "markdown",
   "metadata": {},
   "source": [
    "## 基本斷詞用法，使用預設詞庫\n",
    "\n",
    "三種分詞模式示範：\n",
    "\n",
    "- 精確模式，試圖將句子最精確地切開，適合文本分析。\n",
    "- 全模式，把句子中所有的可以成詞的詞語都掃描出來，速度非常快，但是不能解決歧義。\n",
    "- 搜索引擎模式，在精確模式的基礎上，對長詞再次切分，提高召回率，適合用於搜索引擎分詞。"
   ]
  },
  {
   "cell_type": "code",
   "execution_count": null,
   "metadata": {},
   "outputs": [],
   "source": [
    ":\n",
    "# encoding=utf-8\n",
    "import jieba\n",
    "\n",
    "seg_list = jieba.cut(\"我來到新竹清華大學\", cut_all=True)\n",
    "print(\"全模式: \" + \"/ \".join(seg_list))  # 全模式\n",
    "\n",
    "seg_list = jieba.cut(\"我來到新竹清華大學\", cut_all=False)\n",
    "print(\"精確模式: \" + \"/ \".join(seg_list))  # 精確模式\n",
    "\n",
    "seg_list = jieba.cut(\"他來到了台北101大樓\")  # 預設為精確模式\n",
    "print(\"精確模式(預設): \" +\"/ \".join(seg_list))\n",
    "\n",
    "seg_list = jieba.cut_for_search(\"Apache Spark是一個開源叢集運算框架，最初是由加州大學柏克萊分校AMPLab所開發。\")  # 搜索引擎模式\n",
    "print(\"搜索引擎模式模式: \" +\"/ \".join(seg_list))"
   ]
  }
 ],
 "metadata": {
  "kernelspec": {
   "display_name": "Python 3",
   "language": "python",
   "name": "python3"
  },
  "language_info": {
   "codemirror_mode": {
    "name": "ipython",
    "version": 3
   },
   "file_extension": ".py",
   "mimetype": "text/x-python",
   "name": "python",
   "nbconvert_exporter": "python",
   "pygments_lexer": "ipython3",
   "version": "3.7.3"
  },
  "latex_envs": {
   "LaTeX_envs_menu_present": true,
   "autoclose": false,
   "autocomplete": true,
   "bibliofile": "biblio.bib",
   "cite_by": "apalike",
   "current_citInitial": 1,
   "eqLabelWithNumbers": true,
   "eqNumInitial": 1,
   "hotkeys": {
    "equation": "Ctrl-E",
    "itemize": "Ctrl-I"
   },
   "labels_anchors": false,
   "latex_user_defs": false,
   "report_style_numbering": false,
   "user_envs_cfg": false
  }
 },
 "nbformat": 4,
 "nbformat_minor": 2
}
